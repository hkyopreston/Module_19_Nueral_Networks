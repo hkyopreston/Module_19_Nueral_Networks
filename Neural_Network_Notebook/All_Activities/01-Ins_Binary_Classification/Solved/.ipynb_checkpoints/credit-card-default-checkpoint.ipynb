{
 "cells": [
  {
   "cell_type": "markdown",
   "metadata": {},
   "source": [
    "# Preventing credit card defaults with neural networks"
   ]
  },
  {
   "cell_type": "code",
   "execution_count": 1,
   "metadata": {},
   "outputs": [
    {
     "name": "stderr",
     "output_type": "stream",
     "text": [
      "Z:\\Anaconda\\lib\\site-packages\\h5py\\__init__.py:36: FutureWarning: Conversion of the second argument of issubdtype from `float` to `np.floating` is deprecated. In future, it will be treated as `np.float64 == np.dtype(float).type`.\n",
      "  from ._conv import register_converters as _register_converters\n"
     ]
    }
   ],
   "source": [
    "# Initial imports\n",
    "from path import Path\n",
    "import pandas as pd\n",
    "from tensorflow.keras.models import Sequential\n",
    "from tensorflow.keras.layers import Dense\n",
    "from sklearn.preprocessing import StandardScaler\n",
    "from sklearn.model_selection import train_test_split\n",
    "\n",
    "%matplotlib inline"
   ]
  },
  {
   "cell_type": "code",
   "execution_count": 2,
   "metadata": {},
   "outputs": [
    {
     "data": {
      "text/html": [
       "<div>\n",
       "<style scoped>\n",
       "    .dataframe tbody tr th:only-of-type {\n",
       "        vertical-align: middle;\n",
       "    }\n",
       "\n",
       "    .dataframe tbody tr th {\n",
       "        vertical-align: top;\n",
       "    }\n",
       "\n",
       "    .dataframe thead th {\n",
       "        text-align: right;\n",
       "    }\n",
       "</style>\n",
       "<table border=\"1\" class=\"dataframe\">\n",
       "  <thead>\n",
       "    <tr style=\"text-align: right;\">\n",
       "      <th></th>\n",
       "      <th>LIMIT_BAL</th>\n",
       "      <th>SEX</th>\n",
       "      <th>EDUCATION</th>\n",
       "      <th>MARRIAGE</th>\n",
       "      <th>AGE</th>\n",
       "      <th>PAY_0</th>\n",
       "      <th>PAY_2</th>\n",
       "      <th>PAY_3</th>\n",
       "      <th>PAY_4</th>\n",
       "      <th>PAY_5</th>\n",
       "      <th>...</th>\n",
       "      <th>\"BILL_AMT4\"</th>\n",
       "      <th>BILL_AMT5</th>\n",
       "      <th>BILL_AMT6</th>\n",
       "      <th>PAY_AMT1</th>\n",
       "      <th>PAY_AMT2</th>\n",
       "      <th>PAY_AMT3</th>\n",
       "      <th>PAY_AMT4</th>\n",
       "      <th>PAY_AMT5</th>\n",
       "      <th>PAY_AMT6</th>\n",
       "      <th>DEFAULT</th>\n",
       "    </tr>\n",
       "  </thead>\n",
       "  <tbody>\n",
       "    <tr>\n",
       "      <th>0</th>\n",
       "      <td>20000</td>\n",
       "      <td>2</td>\n",
       "      <td>2</td>\n",
       "      <td>1</td>\n",
       "      <td>24</td>\n",
       "      <td>2</td>\n",
       "      <td>2</td>\n",
       "      <td>-1</td>\n",
       "      <td>-1</td>\n",
       "      <td>-2</td>\n",
       "      <td>...</td>\n",
       "      <td>0</td>\n",
       "      <td>0</td>\n",
       "      <td>0</td>\n",
       "      <td>0</td>\n",
       "      <td>689</td>\n",
       "      <td>0</td>\n",
       "      <td>0</td>\n",
       "      <td>0</td>\n",
       "      <td>0</td>\n",
       "      <td>1</td>\n",
       "    </tr>\n",
       "    <tr>\n",
       "      <th>1</th>\n",
       "      <td>120000</td>\n",
       "      <td>2</td>\n",
       "      <td>2</td>\n",
       "      <td>2</td>\n",
       "      <td>26</td>\n",
       "      <td>-1</td>\n",
       "      <td>2</td>\n",
       "      <td>0</td>\n",
       "      <td>0</td>\n",
       "      <td>0</td>\n",
       "      <td>...</td>\n",
       "      <td>3272</td>\n",
       "      <td>3455</td>\n",
       "      <td>3261</td>\n",
       "      <td>0</td>\n",
       "      <td>1000</td>\n",
       "      <td>1000</td>\n",
       "      <td>1000</td>\n",
       "      <td>0</td>\n",
       "      <td>2000</td>\n",
       "      <td>1</td>\n",
       "    </tr>\n",
       "    <tr>\n",
       "      <th>2</th>\n",
       "      <td>90000</td>\n",
       "      <td>2</td>\n",
       "      <td>2</td>\n",
       "      <td>2</td>\n",
       "      <td>34</td>\n",
       "      <td>0</td>\n",
       "      <td>0</td>\n",
       "      <td>0</td>\n",
       "      <td>0</td>\n",
       "      <td>0</td>\n",
       "      <td>...</td>\n",
       "      <td>14331</td>\n",
       "      <td>14948</td>\n",
       "      <td>15549</td>\n",
       "      <td>1518</td>\n",
       "      <td>1500</td>\n",
       "      <td>1000</td>\n",
       "      <td>1000</td>\n",
       "      <td>1000</td>\n",
       "      <td>5000</td>\n",
       "      <td>0</td>\n",
       "    </tr>\n",
       "    <tr>\n",
       "      <th>3</th>\n",
       "      <td>50000</td>\n",
       "      <td>2</td>\n",
       "      <td>2</td>\n",
       "      <td>1</td>\n",
       "      <td>37</td>\n",
       "      <td>0</td>\n",
       "      <td>0</td>\n",
       "      <td>0</td>\n",
       "      <td>0</td>\n",
       "      <td>0</td>\n",
       "      <td>...</td>\n",
       "      <td>28314</td>\n",
       "      <td>28959</td>\n",
       "      <td>29547</td>\n",
       "      <td>2000</td>\n",
       "      <td>2019</td>\n",
       "      <td>1200</td>\n",
       "      <td>1100</td>\n",
       "      <td>1069</td>\n",
       "      <td>1000</td>\n",
       "      <td>0</td>\n",
       "    </tr>\n",
       "    <tr>\n",
       "      <th>4</th>\n",
       "      <td>50000</td>\n",
       "      <td>1</td>\n",
       "      <td>2</td>\n",
       "      <td>1</td>\n",
       "      <td>57</td>\n",
       "      <td>-1</td>\n",
       "      <td>0</td>\n",
       "      <td>-1</td>\n",
       "      <td>0</td>\n",
       "      <td>0</td>\n",
       "      <td>...</td>\n",
       "      <td>20940</td>\n",
       "      <td>19146</td>\n",
       "      <td>19131</td>\n",
       "      <td>2000</td>\n",
       "      <td>36681</td>\n",
       "      <td>10000</td>\n",
       "      <td>9000</td>\n",
       "      <td>689</td>\n",
       "      <td>679</td>\n",
       "      <td>0</td>\n",
       "    </tr>\n",
       "  </tbody>\n",
       "</table>\n",
       "<p>5 rows × 24 columns</p>\n",
       "</div>"
      ],
      "text/plain": [
       "   LIMIT_BAL  SEX  EDUCATION  MARRIAGE  AGE  PAY_0  PAY_2  PAY_3  PAY_4  \\\n",
       "0      20000    2          2         1   24      2      2     -1     -1   \n",
       "1     120000    2          2         2   26     -1      2      0      0   \n",
       "2      90000    2          2         2   34      0      0      0      0   \n",
       "3      50000    2          2         1   37      0      0      0      0   \n",
       "4      50000    1          2         1   57     -1      0     -1      0   \n",
       "\n",
       "   PAY_5  ...           \"BILL_AMT4\"  BILL_AMT5  BILL_AMT6  PAY_AMT1  PAY_AMT2  \\\n",
       "0     -2  ...                     0          0          0         0       689   \n",
       "1      0  ...                  3272       3455       3261         0      1000   \n",
       "2      0  ...                 14331      14948      15549      1518      1500   \n",
       "3      0  ...                 28314      28959      29547      2000      2019   \n",
       "4      0  ...                 20940      19146      19131      2000     36681   \n",
       "\n",
       "   PAY_AMT3  PAY_AMT4  PAY_AMT5  PAY_AMT6  DEFAULT  \n",
       "0         0         0         0         0        1  \n",
       "1      1000      1000         0      2000        1  \n",
       "2      1000      1000      1000      5000        0  \n",
       "3      1200      1100      1069      1000        0  \n",
       "4     10000      9000       689       679        0  \n",
       "\n",
       "[5 rows x 24 columns]"
      ]
     },
     "execution_count": 2,
     "metadata": {},
     "output_type": "execute_result"
    }
   ],
   "source": [
    "# Read in data\n",
    "file_path = Path(\"../Resources/cc_default.csv\")\n",
    "df = pd.read_csv(file_path)\n",
    "df.head()"
   ]
  },
  {
   "cell_type": "markdown",
   "metadata": {},
   "source": [
    "Define the features set `X` by including all the columns of the DataFrame except the `DEFAULT` column."
   ]
  },
  {
   "cell_type": "code",
   "execution_count": 3,
   "metadata": {},
   "outputs": [
    {
     "data": {
      "text/html": [
       "<div>\n",
       "<style scoped>\n",
       "    .dataframe tbody tr th:only-of-type {\n",
       "        vertical-align: middle;\n",
       "    }\n",
       "\n",
       "    .dataframe tbody tr th {\n",
       "        vertical-align: top;\n",
       "    }\n",
       "\n",
       "    .dataframe thead th {\n",
       "        text-align: right;\n",
       "    }\n",
       "</style>\n",
       "<table border=\"1\" class=\"dataframe\">\n",
       "  <thead>\n",
       "    <tr style=\"text-align: right;\">\n",
       "      <th></th>\n",
       "      <th>LIMIT_BAL</th>\n",
       "      <th>SEX</th>\n",
       "      <th>EDUCATION</th>\n",
       "      <th>MARRIAGE</th>\n",
       "      <th>AGE</th>\n",
       "      <th>PAY_0</th>\n",
       "      <th>PAY_2</th>\n",
       "      <th>PAY_3</th>\n",
       "      <th>PAY_4</th>\n",
       "      <th>PAY_5</th>\n",
       "      <th>...</th>\n",
       "      <th>BILL_AMT3</th>\n",
       "      <th>\"BILL_AMT4\"</th>\n",
       "      <th>BILL_AMT5</th>\n",
       "      <th>BILL_AMT6</th>\n",
       "      <th>PAY_AMT1</th>\n",
       "      <th>PAY_AMT2</th>\n",
       "      <th>PAY_AMT3</th>\n",
       "      <th>PAY_AMT4</th>\n",
       "      <th>PAY_AMT5</th>\n",
       "      <th>PAY_AMT6</th>\n",
       "    </tr>\n",
       "  </thead>\n",
       "  <tbody>\n",
       "    <tr>\n",
       "      <th>0</th>\n",
       "      <td>20000</td>\n",
       "      <td>2</td>\n",
       "      <td>2</td>\n",
       "      <td>1</td>\n",
       "      <td>24</td>\n",
       "      <td>2</td>\n",
       "      <td>2</td>\n",
       "      <td>-1</td>\n",
       "      <td>-1</td>\n",
       "      <td>-2</td>\n",
       "      <td>...</td>\n",
       "      <td>689</td>\n",
       "      <td>0</td>\n",
       "      <td>0</td>\n",
       "      <td>0</td>\n",
       "      <td>0</td>\n",
       "      <td>689</td>\n",
       "      <td>0</td>\n",
       "      <td>0</td>\n",
       "      <td>0</td>\n",
       "      <td>0</td>\n",
       "    </tr>\n",
       "    <tr>\n",
       "      <th>1</th>\n",
       "      <td>120000</td>\n",
       "      <td>2</td>\n",
       "      <td>2</td>\n",
       "      <td>2</td>\n",
       "      <td>26</td>\n",
       "      <td>-1</td>\n",
       "      <td>2</td>\n",
       "      <td>0</td>\n",
       "      <td>0</td>\n",
       "      <td>0</td>\n",
       "      <td>...</td>\n",
       "      <td>2682</td>\n",
       "      <td>3272</td>\n",
       "      <td>3455</td>\n",
       "      <td>3261</td>\n",
       "      <td>0</td>\n",
       "      <td>1000</td>\n",
       "      <td>1000</td>\n",
       "      <td>1000</td>\n",
       "      <td>0</td>\n",
       "      <td>2000</td>\n",
       "    </tr>\n",
       "    <tr>\n",
       "      <th>2</th>\n",
       "      <td>90000</td>\n",
       "      <td>2</td>\n",
       "      <td>2</td>\n",
       "      <td>2</td>\n",
       "      <td>34</td>\n",
       "      <td>0</td>\n",
       "      <td>0</td>\n",
       "      <td>0</td>\n",
       "      <td>0</td>\n",
       "      <td>0</td>\n",
       "      <td>...</td>\n",
       "      <td>13559</td>\n",
       "      <td>14331</td>\n",
       "      <td>14948</td>\n",
       "      <td>15549</td>\n",
       "      <td>1518</td>\n",
       "      <td>1500</td>\n",
       "      <td>1000</td>\n",
       "      <td>1000</td>\n",
       "      <td>1000</td>\n",
       "      <td>5000</td>\n",
       "    </tr>\n",
       "    <tr>\n",
       "      <th>3</th>\n",
       "      <td>50000</td>\n",
       "      <td>2</td>\n",
       "      <td>2</td>\n",
       "      <td>1</td>\n",
       "      <td>37</td>\n",
       "      <td>0</td>\n",
       "      <td>0</td>\n",
       "      <td>0</td>\n",
       "      <td>0</td>\n",
       "      <td>0</td>\n",
       "      <td>...</td>\n",
       "      <td>49291</td>\n",
       "      <td>28314</td>\n",
       "      <td>28959</td>\n",
       "      <td>29547</td>\n",
       "      <td>2000</td>\n",
       "      <td>2019</td>\n",
       "      <td>1200</td>\n",
       "      <td>1100</td>\n",
       "      <td>1069</td>\n",
       "      <td>1000</td>\n",
       "    </tr>\n",
       "    <tr>\n",
       "      <th>4</th>\n",
       "      <td>50000</td>\n",
       "      <td>1</td>\n",
       "      <td>2</td>\n",
       "      <td>1</td>\n",
       "      <td>57</td>\n",
       "      <td>-1</td>\n",
       "      <td>0</td>\n",
       "      <td>-1</td>\n",
       "      <td>0</td>\n",
       "      <td>0</td>\n",
       "      <td>...</td>\n",
       "      <td>35835</td>\n",
       "      <td>20940</td>\n",
       "      <td>19146</td>\n",
       "      <td>19131</td>\n",
       "      <td>2000</td>\n",
       "      <td>36681</td>\n",
       "      <td>10000</td>\n",
       "      <td>9000</td>\n",
       "      <td>689</td>\n",
       "      <td>679</td>\n",
       "    </tr>\n",
       "  </tbody>\n",
       "</table>\n",
       "<p>5 rows × 23 columns</p>\n",
       "</div>"
      ],
      "text/plain": [
       "   LIMIT_BAL  SEX  EDUCATION  MARRIAGE  AGE  PAY_0  PAY_2  PAY_3  PAY_4  \\\n",
       "0      20000    2          2         1   24      2      2     -1     -1   \n",
       "1     120000    2          2         2   26     -1      2      0      0   \n",
       "2      90000    2          2         2   34      0      0      0      0   \n",
       "3      50000    2          2         1   37      0      0      0      0   \n",
       "4      50000    1          2         1   57     -1      0     -1      0   \n",
       "\n",
       "   PAY_5  ...  BILL_AMT3           \"BILL_AMT4\"  BILL_AMT5  BILL_AMT6  \\\n",
       "0     -2  ...        689                     0          0          0   \n",
       "1      0  ...       2682                  3272       3455       3261   \n",
       "2      0  ...      13559                 14331      14948      15549   \n",
       "3      0  ...      49291                 28314      28959      29547   \n",
       "4      0  ...      35835                 20940      19146      19131   \n",
       "\n",
       "   PAY_AMT1  PAY_AMT2  PAY_AMT3  PAY_AMT4  PAY_AMT5  PAY_AMT6  \n",
       "0         0       689         0         0         0         0  \n",
       "1         0      1000      1000      1000         0      2000  \n",
       "2      1518      1500      1000      1000      1000      5000  \n",
       "3      2000      2019      1200      1100      1069      1000  \n",
       "4      2000     36681     10000      9000       689       679  \n",
       "\n",
       "[5 rows x 23 columns]"
      ]
     },
     "execution_count": 3,
     "metadata": {},
     "output_type": "execute_result"
    }
   ],
   "source": [
    "# Define features data\n",
    "X = df.copy()\n",
    "X = X.drop(columns=[\"DEFAULT\"])\n",
    "X.head()"
   ]
  },
  {
   "cell_type": "markdown",
   "metadata": {},
   "source": [
    "Create the target vector `y` by assigning the values of the `DEFAULT` column of the DataFrame."
   ]
  },
  {
   "cell_type": "code",
   "execution_count": 4,
   "metadata": {},
   "outputs": [
    {
     "data": {
      "text/plain": [
       "array([[1],\n",
       "       [1],\n",
       "       [0],\n",
       "       [0],\n",
       "       [0]], dtype=int64)"
      ]
     },
     "execution_count": 4,
     "metadata": {},
     "output_type": "execute_result"
    }
   ],
   "source": [
    "# Define target data\n",
    "y = df[\"DEFAULT\"].values\n",
    "y = y.reshape(-1, 1)\n",
    "y[:5]"
   ]
  },
  {
   "cell_type": "markdown",
   "metadata": {},
   "source": [
    "Create the training an testing sets using the `train_test_split` function from `sklearn`."
   ]
  },
  {
   "cell_type": "code",
   "execution_count": 5,
   "metadata": {
    "collapsed": true
   },
   "outputs": [],
   "source": [
    "# Create training and testing datasets\n",
    "X_train, X_test, y_train, y_test = train_test_split(X, y, random_state=78)"
   ]
  },
  {
   "cell_type": "markdown",
   "metadata": {},
   "source": [
    "Scale the features data using the `StandardScaler` from `sklearn`."
   ]
  },
  {
   "cell_type": "code",
   "execution_count": 6,
   "metadata": {
    "collapsed": true
   },
   "outputs": [],
   "source": [
    "# Create the scaler instance\n",
    "X_scaler = StandardScaler()"
   ]
  },
  {
   "cell_type": "code",
   "execution_count": 7,
   "metadata": {},
   "outputs": [
    {
     "data": {
      "text/plain": [
       "StandardScaler(copy=True, with_mean=True, with_std=True)"
      ]
     },
     "execution_count": 7,
     "metadata": {},
     "output_type": "execute_result"
    }
   ],
   "source": [
    "# Fit the scaler\n",
    "X_scaler.fit(X_train)"
   ]
  },
  {
   "cell_type": "code",
   "execution_count": 8,
   "metadata": {
    "collapsed": true
   },
   "outputs": [],
   "source": [
    "# Scale the features data\n",
    "X_train_scaled = X_scaler.transform(X_train)\n",
    "X_test_scaled = X_scaler.transform(X_test)"
   ]
  },
  {
   "cell_type": "markdown",
   "metadata": {},
   "source": [
    "Create a neural network model with `23` inputs, one hidden layer with `46` units, and an output layer with a single output. Use the `relu` activation function for the first layer and `sigmoid` for the second layer."
   ]
  },
  {
   "cell_type": "code",
   "execution_count": 9,
   "metadata": {
    "collapsed": true
   },
   "outputs": [],
   "source": [
    "# Define the model\n",
    "number_inputs = 23\n",
    "number_hidden_nodes = 69\n",
    "\n",
    "nn = Sequential()\n",
    "nn.add(Dense(units=number_hidden_nodes, input_dim=number_inputs, activation=\"relu\"))\n",
    "nn.add(Dense(1, activation=\"sigmoid\"))"
   ]
  },
  {
   "cell_type": "markdown",
   "metadata": {},
   "source": [
    "Compile the neural network model using the `binary_crossentropy` loss function, the `adam` optimizer, and `accuracy` as additional metric."
   ]
  },
  {
   "cell_type": "code",
   "execution_count": 10,
   "metadata": {
    "collapsed": true
   },
   "outputs": [],
   "source": [
    "# Compile model\n",
    "nn.compile(loss=\"binary_crossentropy\", optimizer=\"adam\", metrics=[\"accuracy\"])"
   ]
  },
  {
   "cell_type": "markdown",
   "metadata": {},
   "source": [
    "Fit the model with `100` epochs."
   ]
  },
  {
   "cell_type": "code",
   "execution_count": 11,
   "metadata": {},
   "outputs": [
    {
     "name": "stdout",
     "output_type": "stream",
     "text": [
      "Train on 22500 samples\n",
      "Epoch 1/100\n",
      "22500/22500 [==============================] - 2s 78us/sample - loss: 0.4778 - accuracy: 0.8041\n",
      "Epoch 2/100\n",
      "22500/22500 [==============================] - 1s 45us/sample - loss: 0.4501 - accuracy: 0.8152\n",
      "Epoch 3/100\n",
      "22500/22500 [==============================] - 1s 45us/sample - loss: 0.4437 - accuracy: 0.8165\n",
      "Epoch 4/100\n",
      "22500/22500 [==============================] - 1s 44us/sample - loss: 0.4404 - accuracy: 0.8168\n",
      "Epoch 5/100\n",
      "22500/22500 [==============================] - 1s 44us/sample - loss: 0.4376 - accuracy: 0.8181\n",
      "Epoch 6/100\n",
      "22500/22500 [==============================] - 1s 46us/sample - loss: 0.4363 - accuracy: 0.8196\n",
      "Epoch 7/100\n",
      "22500/22500 [==============================] - 1s 43us/sample - loss: 0.4343 - accuracy: 0.8191\n",
      "Epoch 8/100\n",
      "22500/22500 [==============================] - 2s 86us/sample - loss: 0.4343 - accuracy: 0.8186\n",
      "Epoch 9/100\n",
      "22500/22500 [==============================] - 1s 57us/sample - loss: 0.4319 - accuracy: 0.8190\n",
      "Epoch 10/100\n",
      "22500/22500 [==============================] - 1s 44us/sample - loss: 0.4313 - accuracy: 0.8200\n",
      "Epoch 11/100\n",
      "22500/22500 [==============================] - 1s 44us/sample - loss: 0.4306 - accuracy: 0.8196\n",
      "Epoch 12/100\n",
      "22500/22500 [==============================] - 1s 43us/sample - loss: 0.4302 - accuracy: 0.8198\n",
      "Epoch 13/100\n",
      "22500/22500 [==============================] - 1s 47us/sample - loss: 0.4301 - accuracy: 0.8195\n",
      "Epoch 14/100\n",
      "22500/22500 [==============================] - 1s 45us/sample - loss: 0.4289 - accuracy: 0.8201\n",
      "Epoch 15/100\n",
      "22500/22500 [==============================] - 1s 45us/sample - loss: 0.4285 - accuracy: 0.8200\n",
      "Epoch 16/100\n",
      "22500/22500 [==============================] - 1s 45us/sample - loss: 0.4281 - accuracy: 0.8200\n",
      "Epoch 17/100\n",
      "22500/22500 [==============================] - 1s 45us/sample - loss: 0.4275 - accuracy: 0.8197\n",
      "Epoch 18/100\n",
      "22500/22500 [==============================] - 1s 46us/sample - loss: 0.4268 - accuracy: 0.8198\n",
      "Epoch 19/100\n",
      "22500/22500 [==============================] - 1s 46us/sample - loss: 0.4267 - accuracy: 0.8197\n",
      "Epoch 20/100\n",
      "22500/22500 [==============================] - 1s 45us/sample - loss: 0.4264 - accuracy: 0.8205\n",
      "Epoch 21/100\n",
      "22500/22500 [==============================] - 1s 47us/sample - loss: 0.4258 - accuracy: 0.8202\n",
      "Epoch 22/100\n",
      "22500/22500 [==============================] - 1s 45us/sample - loss: 0.4255 - accuracy: 0.8206\n",
      "Epoch 23/100\n",
      "22500/22500 [==============================] - 1s 48us/sample - loss: 0.4254 - accuracy: 0.8209\n",
      "Epoch 24/100\n",
      "22500/22500 [==============================] - 1s 45us/sample - loss: 0.4249 - accuracy: 0.8206\n",
      "Epoch 25/100\n",
      "22500/22500 [==============================] - 1s 46us/sample - loss: 0.4243 - accuracy: 0.8220\n",
      "Epoch 26/100\n",
      "22500/22500 [==============================] - 1s 46us/sample - loss: 0.4248 - accuracy: 0.8219\n",
      "Epoch 27/100\n",
      "22500/22500 [==============================] - 1s 47us/sample - loss: 0.4238 - accuracy: 0.8216\n",
      "Epoch 28/100\n",
      "22500/22500 [==============================] - 1s 45us/sample - loss: 0.4235 - accuracy: 0.8217\n",
      "Epoch 29/100\n",
      "22500/22500 [==============================] - 1s 47us/sample - loss: 0.4226 - accuracy: 0.8210\n",
      "Epoch 30/100\n",
      "22500/22500 [==============================] - 1s 45us/sample - loss: 0.4228 - accuracy: 0.8208\n",
      "Epoch 31/100\n",
      "22500/22500 [==============================] - 1s 46us/sample - loss: 0.4223 - accuracy: 0.8212\n",
      "Epoch 32/100\n",
      "22500/22500 [==============================] - 1s 48us/sample - loss: 0.4219 - accuracy: 0.8219\n",
      "Epoch 33/100\n",
      "22500/22500 [==============================] - 1s 50us/sample - loss: 0.4223 - accuracy: 0.8221\n",
      "Epoch 34/100\n",
      "22500/22500 [==============================] - 1s 50us/sample - loss: 0.4220 - accuracy: 0.8224\n",
      "Epoch 35/100\n",
      "22500/22500 [==============================] - 1s 45us/sample - loss: 0.4212 - accuracy: 0.8223\n",
      "Epoch 36/100\n",
      "22500/22500 [==============================] - 1s 46us/sample - loss: 0.4205 - accuracy: 0.8222\n",
      "Epoch 37/100\n",
      "22500/22500 [==============================] - 1s 46us/sample - loss: 0.4212 - accuracy: 0.8221\n",
      "Epoch 38/100\n",
      "22500/22500 [==============================] - 1s 46us/sample - loss: 0.4198 - accuracy: 0.8232\n",
      "Epoch 39/100\n",
      "22500/22500 [==============================] - 1s 45us/sample - loss: 0.4204 - accuracy: 0.8240\n",
      "Epoch 40/100\n",
      "22500/22500 [==============================] - 1s 46us/sample - loss: 0.4197 - accuracy: 0.8240\n",
      "Epoch 41/100\n",
      "22500/22500 [==============================] - 1s 46us/sample - loss: 0.4202 - accuracy: 0.8223\n",
      "Epoch 42/100\n",
      "22500/22500 [==============================] - 1s 47us/sample - loss: 0.4192 - accuracy: 0.8225\n",
      "Epoch 43/100\n",
      "22500/22500 [==============================] - 1s 46us/sample - loss: 0.4191 - accuracy: 0.8225\n",
      "Epoch 44/100\n",
      "22500/22500 [==============================] - 1s 45us/sample - loss: 0.4182 - accuracy: 0.8230\n",
      "Epoch 45/100\n",
      "22500/22500 [==============================] - 1s 47us/sample - loss: 0.4184 - accuracy: 0.8231\n",
      "Epoch 46/100\n",
      "22500/22500 [==============================] - 1s 45us/sample - loss: 0.4178 - accuracy: 0.8231\n",
      "Epoch 47/100\n",
      "22500/22500 [==============================] - 1s 49us/sample - loss: 0.4172 - accuracy: 0.8240\n",
      "Epoch 48/100\n",
      "22500/22500 [==============================] - 1s 50us/sample - loss: 0.4181 - accuracy: 0.8226\n",
      "Epoch 49/100\n",
      "22500/22500 [==============================] - 1s 49us/sample - loss: 0.4167 - accuracy: 0.8226\n",
      "Epoch 50/100\n",
      "22500/22500 [==============================] - 1s 50us/sample - loss: 0.4172 - accuracy: 0.8224\n",
      "Epoch 51/100\n",
      "22500/22500 [==============================] - 1s 49us/sample - loss: 0.4169 - accuracy: 0.8225\n",
      "Epoch 52/100\n",
      "22500/22500 [==============================] - 2s 71us/sample - loss: 0.4160 - accuracy: 0.8231\n",
      "Epoch 53/100\n",
      "22500/22500 [==============================] - 2s 70us/sample - loss: 0.4162 - accuracy: 0.8236\n",
      "Epoch 54/100\n",
      "22500/22500 [==============================] - 1s 65us/sample - loss: 0.4161 - accuracy: 0.8222\n",
      "Epoch 55/100\n",
      "22500/22500 [==============================] - 1s 48us/sample - loss: 0.4151 - accuracy: 0.8225\n",
      "Epoch 56/100\n",
      "22500/22500 [==============================] - 1s 44us/sample - loss: 0.4159 - accuracy: 0.8223\n",
      "Epoch 57/100\n",
      "22500/22500 [==============================] - 1s 45us/sample - loss: 0.4150 - accuracy: 0.8246\n",
      "Epoch 58/100\n",
      "22500/22500 [==============================] - 1s 45us/sample - loss: 0.4157 - accuracy: 0.8226\n",
      "Epoch 59/100\n",
      "22500/22500 [==============================] - 1s 46us/sample - loss: 0.4150 - accuracy: 0.8238\n",
      "Epoch 60/100\n",
      "22500/22500 [==============================] - 1s 47us/sample - loss: 0.4140 - accuracy: 0.8242\n",
      "Epoch 61/100\n",
      "22500/22500 [==============================] - 1s 47us/sample - loss: 0.4148 - accuracy: 0.8238\n",
      "Epoch 62/100\n",
      "22500/22500 [==============================] - 1s 45us/sample - loss: 0.4141 - accuracy: 0.8237\n",
      "Epoch 63/100\n",
      "22500/22500 [==============================] - 1s 45us/sample - loss: 0.4134 - accuracy: 0.8251\n",
      "Epoch 64/100\n",
      "22500/22500 [==============================] - 1s 45us/sample - loss: 0.4132 - accuracy: 0.8237\n",
      "Epoch 65/100\n",
      "22500/22500 [==============================] - 1s 47us/sample - loss: 0.4136 - accuracy: 0.8246\n",
      "Epoch 66/100\n",
      "22500/22500 [==============================] - 1s 47us/sample - loss: 0.4138 - accuracy: 0.8241\n",
      "Epoch 67/100\n",
      "22500/22500 [==============================] - 1s 46us/sample - loss: 0.4126 - accuracy: 0.8252\n",
      "Epoch 68/100\n",
      "22500/22500 [==============================] - 1s 46us/sample - loss: 0.4135 - accuracy: 0.8243\n",
      "Epoch 69/100\n",
      "22500/22500 [==============================] - 1s 47us/sample - loss: 0.4127 - accuracy: 0.8257\n",
      "Epoch 70/100\n",
      "22500/22500 [==============================] - 1s 46us/sample - loss: 0.4119 - accuracy: 0.8246\n",
      "Epoch 71/100\n",
      "22500/22500 [==============================] - 1s 51us/sample - loss: 0.4127 - accuracy: 0.8246\n",
      "Epoch 72/100\n",
      "22500/22500 [==============================] - 1s 55us/sample - loss: 0.4120 - accuracy: 0.8248\n",
      "Epoch 73/100\n",
      "22500/22500 [==============================] - 1s 46us/sample - loss: 0.4109 - accuracy: 0.8248\n",
      "Epoch 74/100\n",
      "22500/22500 [==============================] - 1s 46us/sample - loss: 0.4115 - accuracy: 0.8242\n",
      "Epoch 75/100\n",
      "22500/22500 [==============================] - 1s 45us/sample - loss: 0.4106 - accuracy: 0.8233\n",
      "Epoch 76/100\n"
     ]
    },
    {
     "name": "stdout",
     "output_type": "stream",
     "text": [
      "22500/22500 [==============================] - 1s 45us/sample - loss: 0.4111 - accuracy: 0.8236\n",
      "Epoch 77/100\n",
      "22500/22500 [==============================] - 1s 45us/sample - loss: 0.4104 - accuracy: 0.8267\n",
      "Epoch 78/100\n",
      "22500/22500 [==============================] - 1s 46us/sample - loss: 0.4109 - accuracy: 0.8238\n",
      "Epoch 79/100\n",
      "22500/22500 [==============================] - 1s 45us/sample - loss: 0.4103 - accuracy: 0.8248\n",
      "Epoch 80/100\n",
      "22500/22500 [==============================] - 1s 45us/sample - loss: 0.4103 - accuracy: 0.8245\n",
      "Epoch 81/100\n",
      "22500/22500 [==============================] - 1s 45us/sample - loss: 0.4090 - accuracy: 0.8258\n",
      "Epoch 82/100\n",
      "22500/22500 [==============================] - 1s 46us/sample - loss: 0.4099 - accuracy: 0.8250\n",
      "Epoch 83/100\n",
      "22500/22500 [==============================] - 1s 48us/sample - loss: 0.4099 - accuracy: 0.8254\n",
      "Epoch 84/100\n",
      "22500/22500 [==============================] - 1s 45us/sample - loss: 0.4096 - accuracy: 0.8246\n",
      "Epoch 85/100\n",
      "22500/22500 [==============================] - 1s 57us/sample - loss: 0.4094 - accuracy: 0.8246\n",
      "Epoch 86/100\n",
      "22500/22500 [==============================] - 1s 47us/sample - loss: 0.4093 - accuracy: 0.8260\n",
      "Epoch 87/100\n",
      "22500/22500 [==============================] - 1s 46us/sample - loss: 0.4090 - accuracy: 0.8253\n",
      "Epoch 88/100\n",
      "22500/22500 [==============================] - 1s 45us/sample - loss: 0.4082 - accuracy: 0.8267\n",
      "Epoch 89/100\n",
      "22500/22500 [==============================] - 1s 54us/sample - loss: 0.4085 - accuracy: 0.8260\n",
      "Epoch 90/100\n",
      "22500/22500 [==============================] - 1s 47us/sample - loss: 0.4086 - accuracy: 0.8256\n",
      "Epoch 91/100\n",
      "22500/22500 [==============================] - 1s 47us/sample - loss: 0.4092 - accuracy: 0.8251\n",
      "Epoch 92/100\n",
      "22500/22500 [==============================] - 1s 47us/sample - loss: 0.4076 - accuracy: 0.8252\n",
      "Epoch 93/100\n",
      "22500/22500 [==============================] - 1s 63us/sample - loss: 0.4082 - accuracy: 0.8261\n",
      "Epoch 94/100\n",
      "22500/22500 [==============================] - 1s 51us/sample - loss: 0.4079 - accuracy: 0.8257\n",
      "Epoch 95/100\n",
      "22500/22500 [==============================] - 1s 45us/sample - loss: 0.4076 - accuracy: 0.8265\n",
      "Epoch 96/100\n",
      "22500/22500 [==============================] - 1s 45us/sample - loss: 0.4081 - accuracy: 0.8258\n",
      "Epoch 97/100\n",
      "22500/22500 [==============================] - 1s 47us/sample - loss: 0.4064 - accuracy: 0.8267\n",
      "Epoch 98/100\n",
      "22500/22500 [==============================] - 1s 46us/sample - loss: 0.4072 - accuracy: 0.8258\n",
      "Epoch 99/100\n",
      "22500/22500 [==============================] - 1s 45us/sample - loss: 0.4076 - accuracy: 0.8257\n",
      "Epoch 100/100\n",
      "22500/22500 [==============================] - 1s 45us/sample - loss: 0.4064 - accuracy: 0.8250\n"
     ]
    }
   ],
   "source": [
    "# Fit the model\n",
    "model = nn.fit(X_train_scaled, y_train, epochs=100)"
   ]
  },
  {
   "cell_type": "markdown",
   "metadata": {},
   "source": [
    "Plot the loss function and accuracy."
   ]
  },
  {
   "cell_type": "code",
   "execution_count": 12,
   "metadata": {},
   "outputs": [
    {
     "data": {
      "text/plain": [
       "<matplotlib.axes._subplots.AxesSubplot at 0x19af905ecc0>"
      ]
     },
     "execution_count": 12,
     "metadata": {},
     "output_type": "execute_result"
    },
    {
     "data": {
      "image/png": "[encoded data removed]",
      "text/plain": [
       "<matplotlib.figure.Figure at 0x19af905e400>"
      ]
     },
     "metadata": {
      "needs_background": "light"
     },
     "output_type": "display_data"
    }
   ],
   "source": [
    "# Create a dataframe with the history dictionary\n",
    "df_plot = pd.DataFrame(model.history, index=range(1, len(model.history[\"loss\"]) + 1))\n",
    "\n",
    "# Plot the loss\n",
    "df_plot.plot(y=\"loss\")"
   ]
  },
  {
   "cell_type": "code",
   "execution_count": 13,
   "metadata": {},
   "outputs": [
    {
     "data": {
      "text/plain": [
       "<matplotlib.axes._subplots.AxesSubplot at 0x19af910d588>"
      ]
     },
     "execution_count": 13,
     "metadata": {},
     "output_type": "execute_result"
    },
    {
     "data": {
      "image/png": "[encoded data removed]",
      "text/plain": [
       "<matplotlib.figure.Figure at 0x19af9045400>"
      ]
     },
     "metadata": {
      "needs_background": "light"
     },
     "output_type": "display_data"
    }
   ],
   "source": [
    "# Plot the accuracy\n",
    "df_plot.plot(y=\"accuracy\")\n"
   ]
  },
  {
   "cell_type": "markdown",
   "metadata": {},
   "source": [
    "Evaluate the model using testing data and the `evaluate` method."
   ]
  },
  {
   "cell_type": "code",
   "execution_count": 14,
   "metadata": {},
   "outputs": [
    {
     "name": "stdout",
     "output_type": "stream",
     "text": [
      "7500/1 - 0s - loss: 0.3913 - accuracy: 0.8147\n",
      "Loss: 0.44443303173383075, Accuracy: 0.8146666884422302\n"
     ]
    }
   ],
   "source": [
    "# Evaluate the model fit with linear dummy data\n",
    "model_loss, model_accuracy = nn.evaluate(X_test_scaled, y_test, verbose=2)\n",
    "print(f\"Loss: {model_loss}, Accuracy: {model_accuracy}\")\n"
   ]
  },
  {
   "cell_type": "code",
   "execution_count": null,
   "metadata": {
    "collapsed": true
   },
   "outputs": [],
   "source": []
  }
 ],
 "metadata": {
  "file_extension": ".py",
  "kernelspec": {
   "display_name": "Python 3",
   "language": "python",
   "name": "python3"
  },
  "language_info": {
   "codemirror_mode": {
    "name": "ipython",
    "version": 3
   },
   "file_extension": ".py",
   "mimetype": "text/x-python",
   "name": "python",
   "nbconvert_exporter": "python",
   "pygments_lexer": "ipython3",
   "version": "3.7.6"
  },
  "mimetype": "text/x-python",
  "name": "python",
  "npconvert_exporter": "python",
  "pygments_lexer": "ipython3",
  "version": 3
 },
 "nbformat": 4,
 "nbformat_minor": 4
}
